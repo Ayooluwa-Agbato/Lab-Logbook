{
  "cells": [
    {
      "cell_type": "markdown",
      "metadata": {
        "id": "xnRVfSZgLwm8"
      },
      "source": [
        "# Week-1\n",
        "\n",
        "# Linear Regression Example using tensorflow\n",
        "Linear regression implementation with TensorFlow v2 library.\n",
        "\n",
        "This example is using a low-level approach to better understand all mechanics behind the training process.\n"
      ]
    },
    {
      "cell_type": "markdown",
      "metadata": {
        "id": "m7fejDhULwm-"
      },
      "source": [
        "![image.png](attachment:image.png)"
      ]
    },
    {
      "cell_type": "code",
      "execution_count": 1,
      "metadata": {
        "id": "_46zfg4zLwm-"
      },
      "outputs": [],
      "source": [
        "import tensorflow as tf\n",
        "import matplotlib.pyplot as plt\n",
        "import numpy as np\n",
        "rng = np.random"
      ]
    },
    {
      "cell_type": "code",
      "execution_count": 1,
      "metadata": {
        "id": "L2L-VHATLwm_"
      },
      "outputs": [],
      "source": []
    },
    {
      "cell_type": "markdown",
      "metadata": {
        "id": "Il3x4kS-Lwm_"
      },
      "source": [
        "![image.png](attachment:image.png)"
      ]
    },
    {
      "cell_type": "code",
      "execution_count": 2,
      "metadata": {
        "id": "uI_WHNhDLwm_"
      },
      "outputs": [],
      "source": [
        "learning_rate = 0.01\n",
        "training_steps =1000\n",
        "display_step = 50"
      ]
    },
    {
      "cell_type": "code",
      "execution_count": 2,
      "metadata": {
        "id": "c-T1b_k9Lwm_"
      },
      "outputs": [],
      "source": []
    },
    {
      "cell_type": "code",
      "execution_count": 3,
      "metadata": {
        "id": "NfU9jpE1Lwm_"
      },
      "outputs": [],
      "source": [
        "# Just run the next cell using 'Ctrl' + 'Enter'"
      ]
    },
    {
      "cell_type": "code",
      "execution_count": 4,
      "metadata": {
        "id": "gOyDCXvXLwnA"
      },
      "outputs": [],
      "source": [
        "# Training Data.\n",
        "\n",
        "X = np.array([3.3,4.4,5.5,6.71,6.93,4.168,9.779,6.182,7.59,2.167,\n",
        "              7.042,10.791,5.313,7.997,5.654,9.27,3.1])\n",
        "\n",
        "Y = np.array([1.7,2.76,2.09,3.19,1.694,1.573,3.366,2.596,2.53,1.221,\n",
        "              2.827,3.465,1.65,2.904,2.42,2.94,1.3])\n",
        "\n",
        "n_samples = X.shape[0]"
      ]
    },
    {
      "cell_type": "markdown",
      "metadata": {
        "id": "M-JyakmDLwnA"
      },
      "source": [
        "![image.png](attachment:image.png)"
      ]
    },
    {
      "cell_type": "code",
      "execution_count": 5,
      "metadata": {
        "colab": {
          "base_uri": "https://localhost:8080/"
        },
        "id": "d2hx2NNJLwnA",
        "outputId": "97052d01-ac46-44f8-fd90-6500dbeb98e9"
      },
      "outputs": [
        {
          "output_type": "stream",
          "name": "stdout",
          "text": [
            "[ 3.3    4.4    5.5    6.71   6.93   4.168  9.779  6.182  7.59   2.167\n",
            "  7.042 10.791  5.313  7.997  5.654  9.27   3.1  ] \n",
            " (17,)\n"
          ]
        }
      ],
      "source": [
        "print(X, '\\n', X.shape)"
      ]
    },
    {
      "cell_type": "code",
      "execution_count": 5,
      "metadata": {
        "id": "MXT72HlwLwnA"
      },
      "outputs": [],
      "source": []
    },
    {
      "cell_type": "markdown",
      "metadata": {
        "id": "vhQNPG9sLwnA"
      },
      "source": [
        "![image.png](attachment:image.png)"
      ]
    },
    {
      "cell_type": "code",
      "execution_count": 6,
      "metadata": {
        "colab": {
          "base_uri": "https://localhost:8080/"
        },
        "id": "nnfPbilSLwnA",
        "outputId": "d3600c30-b2a4-4400-889b-73d88be8752a"
      },
      "outputs": [
        {
          "output_type": "stream",
          "name": "stdout",
          "text": [
            "[ 3.3    4.4    5.5    6.71   6.93   4.168  9.779  6.182  7.59   2.167\n",
            "  7.042 10.791  5.313  7.997  5.654  9.27   3.1  ] \n",
            " (17,)\n"
          ]
        }
      ],
      "source": [
        "print(X, '\\n', Y.shape)"
      ]
    },
    {
      "cell_type": "code",
      "execution_count": 6,
      "metadata": {
        "id": "hb_nyaqTLwnA"
      },
      "outputs": [],
      "source": []
    },
    {
      "cell_type": "markdown",
      "metadata": {
        "id": "6CjCMp_DLwnA"
      },
      "source": [
        "![image.png](attachment:image.png)"
      ]
    },
    {
      "cell_type": "code",
      "execution_count": 7,
      "metadata": {
        "colab": {
          "base_uri": "https://localhost:8080/"
        },
        "id": "3j71phlaLwnA",
        "outputId": "673375e2-6ac9-4598-e8b8-147ba451d4f7"
      },
      "outputs": [
        {
          "output_type": "stream",
          "name": "stdout",
          "text": [
            "0.41496304 \n",
            " -0.4672145\n"
          ]
        }
      ],
      "source": [
        "w = tf.Variable(rng.randn(), name=\"weight\")\n",
        "b = tf.Variable(rng.randn(), name=\"bias\")\n",
        "print(w.numpy(), '\\n', b.numpy())"
      ]
    },
    {
      "cell_type": "code",
      "execution_count": 7,
      "metadata": {
        "id": "0yyiVvhsLwnB"
      },
      "outputs": [],
      "source": []
    },
    {
      "cell_type": "markdown",
      "metadata": {
        "id": "f5tkb_sTLwnB"
      },
      "source": [
        "![image.png](attachment:image.png)"
      ]
    },
    {
      "cell_type": "code",
      "execution_count": 8,
      "metadata": {
        "id": "plqQvuECLwnB"
      },
      "outputs": [],
      "source": [
        "def linear_regression(x):\n",
        "    return w * x + b"
      ]
    },
    {
      "cell_type": "code",
      "execution_count": 8,
      "metadata": {
        "id": "n16wDFDFLwnB"
      },
      "outputs": [],
      "source": []
    },
    {
      "cell_type": "markdown",
      "metadata": {
        "id": "t2-bnaeZLwnB"
      },
      "source": [
        "![image.png](attachment:image.png)"
      ]
    },
    {
      "cell_type": "code",
      "execution_count": 9,
      "metadata": {
        "id": "K2JEIHp9LwnB"
      },
      "outputs": [],
      "source": [
        "def mean_square(y_pred, y_true):\n",
        "    return tf.reduce_sum(tf.pow(y_pred-y_true, 2)) / (2 * n_samples)"
      ]
    },
    {
      "cell_type": "code",
      "execution_count": 9,
      "metadata": {
        "id": "Jf7-pIqtLwnB"
      },
      "outputs": [],
      "source": []
    },
    {
      "cell_type": "markdown",
      "metadata": {
        "id": "g1Hu-k_uLwnB"
      },
      "source": [
        "![image.png](attachment:image.png)"
      ]
    },
    {
      "cell_type": "code",
      "execution_count": 10,
      "metadata": {
        "id": "esPaJn_JLwnC"
      },
      "outputs": [],
      "source": [
        "#Stochastic Gradient Descent Optimizer\n",
        "optimizer = tf.optimizers.SGD(learning_rate)"
      ]
    },
    {
      "cell_type": "code",
      "execution_count": 10,
      "metadata": {
        "id": "mBpNcP8kLwnC"
      },
      "outputs": [],
      "source": []
    },
    {
      "cell_type": "code",
      "execution_count": 11,
      "metadata": {
        "id": "jk8J2j6FLwnC"
      },
      "outputs": [],
      "source": [
        "# Adding a question mark () after the function name lets you view the latest documentation.\n",
        "# This is a handy tool."
      ]
    },
    {
      "cell_type": "markdown",
      "metadata": {
        "id": "yiO8dYbQLwnC"
      },
      "source": [
        "![image.png](attachment:image.png)"
      ]
    },
    {
      "cell_type": "code",
      "execution_count": 12,
      "metadata": {
        "colab": {
          "base_uri": "https://localhost:8080/"
        },
        "id": "1oJ4Xb_XLwnC",
        "outputId": "427a668a-8485-441c-c07d-4d81e0372cd7"
      },
      "outputs": [
        {
          "output_type": "stream",
          "name": "stdout",
          "text": [
            "Object `tf.optimizer.SGD` not found.\n"
          ]
        }
      ],
      "source": [
        "tf.optimizer.SGD?"
      ]
    },
    {
      "cell_type": "code",
      "execution_count": 12,
      "metadata": {
        "id": "M9mqM_M7LwnC"
      },
      "outputs": [],
      "source": []
    },
    {
      "cell_type": "markdown",
      "metadata": {
        "id": "UubJC7lwLwnC"
      },
      "source": [
        "![image.png](attachment:image.png)"
      ]
    },
    {
      "cell_type": "code",
      "execution_count": 13,
      "metadata": {
        "id": "1vkIBdwTLwnC"
      },
      "outputs": [],
      "source": [
        "def run_optimization():\n",
        "\n",
        "    with tf.GradientTape() as g:\n",
        "        pred = linear_regression(X)\n",
        "        loss = mean_square(pred,Y)\n",
        "\n",
        "    gradients = g.gradient(loss,[w,b])\n",
        "\n",
        "    optimizer.apply_gradients(zip(gradients, [w,b]))"
      ]
    },
    {
      "cell_type": "code",
      "execution_count": 13,
      "metadata": {
        "id": "oCyC_veTLwnC"
      },
      "outputs": [],
      "source": []
    },
    {
      "cell_type": "markdown",
      "metadata": {
        "id": "FnmAo34OLwnD"
      },
      "source": [
        "![image.png](attachment:image.png)"
      ]
    },
    {
      "cell_type": "code",
      "execution_count": 14,
      "metadata": {
        "colab": {
          "base_uri": "https://localhost:8080/"
        },
        "id": "ZFYJ1LT5LwnD",
        "outputId": "c2330e3d-e294-45e0-9c24-7ff2a84f1387"
      },
      "outputs": [
        {
          "output_type": "stream",
          "name": "stdout",
          "text": [
            "step: 50, loss: 0.164501, W: 0.419408, b: -0.390635\n",
            "step: 100, loss: 0.154485, W: 0.409523, b: -0.320552\n",
            "step: 150, loss: 0.145615, W: 0.400220, b: -0.254598\n",
            "step: 200, loss: 0.137759, W: 0.391465, b: -0.192531\n",
            "step: 250, loss: 0.130802, W: 0.383226, b: -0.134121\n",
            "step: 300, loss: 0.124641, W: 0.375473, b: -0.079152\n",
            "step: 350, loss: 0.119184, W: 0.368176, b: -0.027422\n",
            "step: 400, loss: 0.114351, W: 0.361309, b: 0.021260\n",
            "step: 450, loss: 0.110071, W: 0.354847, b: 0.067074\n",
            "step: 500, loss: 0.106281, W: 0.348766, b: 0.110188\n",
            "step: 550, loss: 0.102924, W: 0.343043, b: 0.150762\n",
            "step: 600, loss: 0.099951, W: 0.337657, b: 0.188945\n",
            "step: 650, loss: 0.097318, W: 0.332588, b: 0.224878\n",
            "step: 700, loss: 0.094986, W: 0.327818, b: 0.258694\n",
            "step: 750, loss: 0.092921, W: 0.323330, b: 0.290518\n",
            "step: 800, loss: 0.091092, W: 0.319105, b: 0.320467\n",
            "step: 850, loss: 0.089472, W: 0.315130, b: 0.348651\n",
            "step: 900, loss: 0.088037, W: 0.311389, b: 0.375174\n",
            "step: 950, loss: 0.086767, W: 0.307868, b: 0.400135\n",
            "step: 1000, loss: 0.085642, W: 0.304555, b: 0.423624\n"
          ]
        }
      ],
      "source": [
        "for step in range(1, training_steps +1):\n",
        "    run_optimization()\n",
        "\n",
        "    if step % display_step == 0:\n",
        "        pred = linear_regression(X)\n",
        "        loss = mean_square(pred, Y)\n",
        "        print(\"step: %i, loss: %f, W: %f, b: %f\" % (step,loss,w.numpy(), b.numpy()))"
      ]
    },
    {
      "cell_type": "code",
      "execution_count": 14,
      "metadata": {
        "id": "AiCFkIdaLwnD"
      },
      "outputs": [],
      "source": []
    },
    {
      "cell_type": "markdown",
      "metadata": {
        "id": "CyM1zlgDLwnD"
      },
      "source": [
        "![image.png](attachment:image.png)"
      ]
    },
    {
      "cell_type": "code",
      "execution_count": 15,
      "metadata": {
        "colab": {
          "base_uri": "https://localhost:8080/",
          "height": 485
        },
        "id": "2axdwbbvLwnD",
        "outputId": "103fc73d-11c6-4dc1-e0ff-65cabb8f9d4e"
      },
      "outputs": [
        {
          "output_type": "stream",
          "name": "stderr",
          "text": [
            "<ipython-input-15-86ec9d128af7>:2: UserWarning: color is redundantly defined by the 'color' keyword argument and the fmt string \"ro\" (-> color='r'). The keyword argument will take precedence.\n",
            "  plt.plot(X, Y, 'ro', markersize=8, label='Original data', color='black')\n"
          ]
        },
        {
          "output_type": "display_data",
          "data": {
            "text/plain": [
              "<Figure size 640x480 with 1 Axes>"
            ],
            "image/png": "[encoded data removed]"
          },
          "metadata": {}
        }
      ],
      "source": [
        "# plt.plot(X,Y, 'ro', label='Original data')\n",
        "plt.plot(X, Y, 'ro', markersize=8, label='Original data', color='black')\n",
        "plt.plot(X, np.array(w * X + b ), label='Fitted line')\n",
        "plt.legend()\n",
        "plt.show()"
      ]
    },
    {
      "cell_type": "code",
      "execution_count": 15,
      "metadata": {
        "id": "sAwh1FwmLwnD"
      },
      "outputs": [],
      "source": []
    },
    {
      "cell_type": "code",
      "execution_count": 15,
      "metadata": {
        "id": "lR86LRy_LwnD"
      },
      "outputs": [],
      "source": []
    },
    {
      "cell_type": "markdown",
      "metadata": {
        "id": "Am-75jBDLwnD"
      },
      "source": [
        "# Lab Logbook requirements:\n",
        "### Please make sure to document the following in your Lablogbook:\n",
        "\n",
        "Include an image of the generated graph depicting the original data and the fitted line for linear regression. Modify the appearance of the graph by adjusting its color or size. Copy the figure and paste it directly into your logbook. Refrain from taking a snapshot; instead, right-click and copy the graph to your lab logbook. Ensure that no code or other information is added to the logbook and that only required graph is present.  \n",
        "\n",
        "#### Marks will not be awarded if anything else is found in the logbook or instructions are not clearly followed."
      ]
    },
    {
      "cell_type": "code",
      "execution_count": null,
      "metadata": {
        "id": "5j5OXQxWLwnE"
      },
      "outputs": [],
      "source": []
    }
  ],
  "metadata": {
    "kernelspec": {
      "display_name": "Python 3 (ipykernel)",
      "language": "python",
      "name": "python3"
    },
    "language_info": {
      "codemirror_mode": {
        "name": "ipython",
        "version": 3
      },
      "file_extension": ".py",
      "mimetype": "text/x-python",
      "name": "python",
      "nbconvert_exporter": "python",
      "pygments_lexer": "ipython3",
      "version": "3.11.5"
    },
    "colab": {
      "provenance": []
    }
  },
  "nbformat": 4,
  "nbformat_minor": 0
}